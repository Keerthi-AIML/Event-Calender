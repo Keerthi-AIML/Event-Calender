{
  "nbformat": 4,
  "nbformat_minor": 0,
  "metadata": {
    "colab": {
      "private_outputs": true,
      "provenance": [],
      "authorship_tag": "ABX9TyPyC8gMYuiH25HU2E0OBQLH",
      "include_colab_link": true
    },
    "kernelspec": {
      "name": "python3",
      "display_name": "Python 3"
    },
    "language_info": {
      "name": "python"
    }
  },
  "cells": [
    {
      "cell_type": "markdown",
      "metadata": {
        "id": "view-in-github",
        "colab_type": "text"
      },
      "source": [
        "<a href=\"https://colab.research.google.com/github/Keerthi-AIML/Event-Calender/blob/main/Copy_of_Untitled5.ipynb\" target=\"_parent\"><img src=\"https://colab.research.google.com/assets/colab-badge.svg\" alt=\"Open In Colab\"/></a>"
      ]
    },
    {
      "cell_type": "code",
      "execution_count": null,
      "metadata": {
        "id": "aGMeIMm9d0gG"
      },
      "outputs": [],
      "source": [
        "x=2\n"
      ]
    },
    {
      "cell_type": "code",
      "source": [
        "y=9"
      ],
      "metadata": {
        "id": "6OMoLOYNefYH"
      },
      "execution_count": null,
      "outputs": []
    },
    {
      "cell_type": "code",
      "source": [
        "x+y"
      ],
      "metadata": {
        "id": "Cdjr2YI1ehcl"
      },
      "execution_count": null,
      "outputs": []
    },
    {
      "cell_type": "code",
      "source": [
        "x+4"
      ],
      "metadata": {
        "id": "zOpqCVNqekRS"
      },
      "execution_count": null,
      "outputs": []
    },
    {
      "cell_type": "code",
      "source": [
        "x=9"
      ],
      "metadata": {
        "id": "Q5HYgCYDenTH"
      },
      "execution_count": null,
      "outputs": []
    },
    {
      "cell_type": "code",
      "source": [
        "_+y"
      ],
      "metadata": {
        "id": "P3RbyRkwe06c"
      },
      "execution_count": null,
      "outputs": []
    },
    {
      "cell_type": "code",
      "source": [
        "x+y"
      ],
      "metadata": {
        "id": "MFlQVHP2epH8"
      },
      "execution_count": null,
      "outputs": []
    },
    {
      "cell_type": "code",
      "source": [
        "_+y   #the sum of the previous result and the value of y"
      ],
      "metadata": {
        "id": "bLzATmUSfWXY"
      },
      "execution_count": null,
      "outputs": []
    },
    {
      "cell_type": "code",
      "source": [
        "x # returns the value of x"
      ],
      "metadata": {
        "id": "y2ZFTDzxesWu"
      },
      "execution_count": null,
      "outputs": []
    },
    {
      "cell_type": "code",
      "source": [
        "name='keerthi'"
      ],
      "metadata": {
        "id": "S98i67sSfp8R"
      },
      "execution_count": null,
      "outputs": []
    },
    {
      "cell_type": "code",
      "source": [
        "name"
      ],
      "metadata": {
        "id": "3EJSUGpMhDyN"
      },
      "execution_count": null,
      "outputs": []
    },
    {
      "cell_type": "code",
      "source": [
        "name +' gondadgi'"
      ],
      "metadata": {
        "id": "5U1v6rDihGbO"
      },
      "execution_count": null,
      "outputs": []
    },
    {
      "cell_type": "code",
      "source": [
        "name='keerthi gondadgi'"
      ],
      "metadata": {
        "id": "lYC9ms7zhatR"
      },
      "execution_count": null,
      "outputs": []
    },
    {
      "cell_type": "code",
      "source": [
        "name"
      ],
      "metadata": {
        "id": "5p7c6TJfiWHO"
      },
      "execution_count": null,
      "outputs": []
    },
    {
      "cell_type": "code",
      "source": [
        "name[7]"
      ],
      "metadata": {
        "id": "BmgEBX3piZGa"
      },
      "execution_count": null,
      "outputs": []
    },
    {
      "cell_type": "code",
      "source": [
        "name[-1]"
      ],
      "metadata": {
        "id": "EksNCGaxicsH"
      },
      "execution_count": null,
      "outputs": []
    },
    {
      "cell_type": "code",
      "source": [
        "#slicing\n",
        "name[1:4]"
      ],
      "metadata": {
        "id": "oxDDcG8li8dw"
      },
      "execution_count": null,
      "outputs": []
    },
    {
      "cell_type": "code",
      "source": [
        "name[ :3]"
      ],
      "metadata": {
        "id": "KNwkkjlPjtBm"
      },
      "execution_count": null,
      "outputs": []
    },
    {
      "cell_type": "code",
      "source": [
        "'my'+name[3:]"
      ],
      "metadata": {
        "id": "LBIbAbNJj20r"
      },
      "execution_count": null,
      "outputs": []
    },
    {
      "cell_type": "code",
      "source": [
        "len(name)"
      ],
      "metadata": {
        "id": "NCLttJWikBfO"
      },
      "execution_count": null,
      "outputs": []
    },
    {
      "cell_type": "code",
      "source": [
        "nums=[12,25,35,45,46]"
      ],
      "metadata": {
        "id": "j30QCSWukqFx"
      },
      "execution_count": null,
      "outputs": []
    },
    {
      "cell_type": "code",
      "source": [
        "nums"
      ],
      "metadata": {
        "id": "I6DmWuogkvZ3"
      },
      "execution_count": null,
      "outputs": []
    },
    {
      "cell_type": "code",
      "source": [
        "list=[1,2,\"kee\",4]"
      ],
      "metadata": {
        "id": "6LHTM4Ehkxvk"
      },
      "execution_count": null,
      "outputs": []
    },
    {
      "cell_type": "code",
      "source": [
        "list"
      ],
      "metadata": {
        "id": "gmmnqxwjk52H"
      },
      "execution_count": null,
      "outputs": []
    },
    {
      "cell_type": "code",
      "source": [
        "mil=[nums,list]\n",
        "mil"
      ],
      "metadata": {
        "id": "OBiB-OkZlyIi"
      },
      "execution_count": null,
      "outputs": []
    },
    {
      "cell_type": "code",
      "source": [
        "nums.append(67)\n",
        "nums"
      ],
      "metadata": {
        "id": "heumO8-qoH6V"
      },
      "execution_count": null,
      "outputs": []
    },
    {
      "cell_type": "code",
      "source": [
        "nums.insert(2,24)"
      ],
      "metadata": {
        "id": "51d0gJMXoq5r"
      },
      "execution_count": null,
      "outputs": []
    },
    {
      "cell_type": "code",
      "source": [
        "nums"
      ],
      "metadata": {
        "id": "HeZkthnRowXK"
      },
      "execution_count": null,
      "outputs": []
    },
    {
      "cell_type": "code",
      "source": [
        "nums.remove(67)  # it will remove the first occurence of the digit in the list"
      ],
      "metadata": {
        "id": "C-8bjWqOozd3"
      },
      "execution_count": null,
      "outputs": []
    },
    {
      "cell_type": "code",
      "source": [
        "nums"
      ],
      "metadata": {
        "id": "Wux-00UUo4Pl"
      },
      "execution_count": null,
      "outputs": []
    },
    {
      "cell_type": "code",
      "source": [
        "nums.pop(5) # should pass the index value rather then the value  in the list\n",
        "# returns the deleted element also"
      ],
      "metadata": {
        "id": "Bo5Vay_ppFI3"
      },
      "execution_count": null,
      "outputs": []
    },
    {
      "cell_type": "code",
      "source": [
        "del nums[0:2] #deletes the multiples values at a time\n"
      ],
      "metadata": {
        "id": "WmKaS4icpbnC"
      },
      "execution_count": null,
      "outputs": []
    },
    {
      "cell_type": "code",
      "source": [
        "nums"
      ],
      "metadata": {
        "id": "AyAiT4n7puQN"
      },
      "execution_count": null,
      "outputs": []
    },
    {
      "cell_type": "code",
      "source": [
        "# to insert multiple values in the list we use extend\n",
        "nums.extend([1,2,3,4,5])  # the new values are added to the end of the list"
      ],
      "metadata": {
        "id": "4Lsp-4z8pyEK"
      },
      "execution_count": null,
      "outputs": []
    },
    {
      "cell_type": "code",
      "source": [
        "nums"
      ],
      "metadata": {
        "id": "5l7fg3Yppxmg"
      },
      "execution_count": null,
      "outputs": []
    },
    {
      "cell_type": "code",
      "source": [
        "# there are few in-built methods in python\n",
        "min(nums)"
      ],
      "metadata": {
        "id": "PWfj2lScqHuJ"
      },
      "execution_count": null,
      "outputs": []
    },
    {
      "cell_type": "code",
      "source": [
        "max(nums)"
      ],
      "metadata": {
        "id": "G3_QOC8OqWfe"
      },
      "execution_count": null,
      "outputs": []
    },
    {
      "cell_type": "code",
      "source": [
        "nums.sort()\n",
        "nums"
      ],
      "metadata": {
        "id": "qkLuWA0hqav3"
      },
      "execution_count": null,
      "outputs": []
    },
    {
      "cell_type": "code",
      "source": [
        "sum(nums) # return the sum of all the number in the list"
      ],
      "metadata": {
        "id": "m02CPL6VqsDN"
      },
      "execution_count": null,
      "outputs": []
    },
    {
      "cell_type": "code",
      "source": [
        " tup=(21,13,25,14)"
      ],
      "metadata": {
        "id": "L8qkr6GTq2lX"
      },
      "execution_count": null,
      "outputs": []
    },
    {
      "cell_type": "code",
      "source": [
        "tup"
      ],
      "metadata": {
        "id": "6KF9cMKmtEmJ"
      },
      "execution_count": null,
      "outputs": []
    },
    {
      "cell_type": "code",
      "source": [
        "tup[1]"
      ],
      "metadata": {
        "id": "-1Krvh7EtHed"
      },
      "execution_count": null,
      "outputs": []
    },
    {
      "cell_type": "code",
      "source": [
        "tup.index(21)"
      ],
      "metadata": {
        "id": "3BMJIgT4tLRv"
      },
      "execution_count": null,
      "outputs": []
    },
    {
      "cell_type": "code",
      "source": [
        "s={22,25,14,21,5}"
      ],
      "metadata": {
        "id": "-dUrU_WUvPYG"
      },
      "execution_count": null,
      "outputs": []
    },
    {
      "cell_type": "code",
      "source": [
        "s"
      ],
      "metadata": {
        "id": "baXG0Z9rvVvs"
      },
      "execution_count": null,
      "outputs": []
    },
    {
      "cell_type": "code",
      "source": [
        "s={25,14,98,63,75,98}"
      ],
      "metadata": {
        "id": "Z9RrLxoyvr3R"
      },
      "execution_count": null,
      "outputs": []
    },
    {
      "cell_type": "code",
      "source": [
        "s"
      ],
      "metadata": {
        "id": "ezcLKaXJvzcf"
      },
      "execution_count": null,
      "outputs": []
    }
  ]
}